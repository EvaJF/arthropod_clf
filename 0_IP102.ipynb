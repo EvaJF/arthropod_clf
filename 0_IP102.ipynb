{
 "cells": [
  {
   "cell_type": "markdown",
   "metadata": {},
   "source": [
    "# Compute mean and standard deviation of IP102 dataset\n",
    "\n",
    "Along the 3 channels, for transfer learning from the pretrained Resnet50 network by Wu et al."
   ]
  },
  {
   "cell_type": "code",
   "execution_count": 1,
   "metadata": {},
   "outputs": [],
   "source": [
    "import torch\n",
    "import torchvision\n",
    "import numpy as np\n",
    "import sys\n",
    "from torchvision import datasets, transforms"
   ]
  },
  {
   "cell_type": "code",
   "execution_count": 2,
   "metadata": {},
   "outputs": [],
   "source": [
    "data_transforms = transforms.Compose([\n",
    "    transforms.Resize([224, 224]),\n",
    "    transforms.ToTensor()\n",
    "])\n",
    "\n",
    "image_directory = \"/Users/eva/Projects/3A_DeepLearning/ip102_v1.1\"\n",
    "\n",
    "dataset_full = datasets.ImageFolder(image_directory, data_transforms)\n",
    "print(len(dataset_full), 'images')\n",
    "\n",
    "loader = torch.utils.data.DataLoader(dataset_full, batch_size=16, shuffle=False, num_workers=1)"
   ]
  },
  {
   "cell_type": "code",
   "execution_count": 14,
   "metadata": {},
   "outputs": [],
   "source": [
    "# Compute mean and stdev along the 3 channels\n",
    "\n",
    "mean = 0.\n",
    "std = 0.\n",
    "nb_samples = 0.\n",
    "\n",
    "for data, target in loader:\n",
    "    #print(type(data))\n",
    "    #print(len(data))\n",
    "    #print(type(data[0]), type(data[1]))\n",
    "    #print(data[0].size(), data[1].size())\n",
    "    batch_samples = data.size(0)\n",
    "    data = data.view(batch_samples, data.size(1), -1)\n",
    "    mean += data.mean(2).sum(0)\n",
    "    std += data.std(2).sum(0)\n",
    "    nb_samples += batch_samples\n",
    "\n",
    "mean /= nb_samples\n",
    "std /= nb_samples"
   ]
  },
  {
   "cell_type": "code",
   "execution_count": 15,
   "metadata": {},
   "outputs": [
    {
     "name": "stdout",
     "output_type": "stream",
     "text": [
      "tensor([0.5139, 0.5406, 0.3881])\n",
      "tensor([0.1889, 0.1877, 0.1880])\n",
      "tensor([0.0357, 0.0352, 0.0354])\n"
     ]
    }
   ],
   "source": [
    "print(mean)\n",
    "print(std)\n",
    "print(std**2)"
   ]
  }
 ],
 "metadata": {
  "kernelspec": {
   "display_name": "Python 3",
   "language": "python",
   "name": "python3"
  },
  "language_info": {
   "codemirror_mode": {
    "name": "ipython",
    "version": 3
   },
   "file_extension": ".py",
   "mimetype": "text/x-python",
   "name": "python",
   "nbconvert_exporter": "python",
   "pygments_lexer": "ipython3",
   "version": "3.6.7"
  }
 },
 "nbformat": 4,
 "nbformat_minor": 2
}
