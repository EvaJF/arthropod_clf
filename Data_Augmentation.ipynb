{
 "cells": [
  {
   "cell_type": "markdown",
   "metadata": {},
   "source": [
    "# Data Augmentation using pyTorch\n",
    "Geometric Transformations"
   ]
  },
  {
   "cell_type": "code",
   "execution_count": null,
   "metadata": {},
   "outputs": [],
   "source": [
    "import torch\n",
    "import torchvision\n",
    "import torchvision.transforms as transforms\n",
    "import matplotlib.pyplot as plt\n",
    "import glob\n",
    "from torch.utils.data import DataLoader,Dataset\n",
    "from PIL import Image\n",
    "import numpy as np\n",
    "from torchvision.utils import save_image"
   ]
  },
  {
   "cell_type": "code",
   "execution_count": null,
   "metadata": {},
   "outputs": [],
   "source": [
    "#sub directories\n",
    "classes = ['Araneae','Coleoptera', 'Diptera', 'Hemiptera', 'Hymenoptera', 'Lepidoptera', 'Odonata']\n",
    "\n",
    "directory = \"ArTaxOr_data_light/\"\n",
    "output_directory = \"Augmentation_data/\"\n",
    "\n",
    "batch_size = 8"
   ]
  },
  {
   "cell_type": "code",
   "execution_count": null,
   "metadata": {},
   "outputs": [],
   "source": [
    "class MyDataset(Dataset):\n",
    "    def __init__(self,image_list,transforms=None):\n",
    "        self.image_list=image_list\n",
    "        self.transforms=transforms\n",
    "    def __len__(self):\n",
    "        return len(self.image_list)\n",
    "    def __getitem__(self,i):\n",
    "        img=plt.imread(self.image_list[i])\n",
    "        img=Image.fromarray(img).convert('RGB')\n",
    "        img=np.array(img).astype(np.uint8)\n",
    "\n",
    "        if self.transforms is not None:\n",
    "            img=self.transforms(img)\n",
    "        return torch.tensor(img,dtype=torch.float)"
   ]
  },
  {
   "cell_type": "markdown",
   "metadata": {},
   "source": [
    "## Image Rotation"
   ]
  },
  {
   "cell_type": "code",
   "execution_count": null,
   "metadata": {},
   "outputs": [],
   "source": [
    "def rotation(img_list, batch):\n",
    "    transform=transforms.Compose([\n",
    "                              transforms.ToPILImage(),\n",
    "                              transforms.Resize((244,244)),\n",
    "                              transforms.RandomRotation(50,expand=True),  \n",
    "                              transforms.Resize((244,244)),\n",
    "                              transforms.ToTensor(),\n",
    "                              ])\n",
    "    return DataLoader(MyDataset(img_list,transform),batch_size=batch,shuffle=True)"
   ]
  },
  {
   "cell_type": "markdown",
   "metadata": {},
   "source": [
    "## Image Cropping"
   ]
  },
  {
   "cell_type": "code",
   "execution_count": null,
   "metadata": {},
   "outputs": [],
   "source": [
    "def cropping(img_list, batch):\n",
    "    transform=transforms.Compose([\n",
    "                              transforms.ToPILImage(),\n",
    "                              transforms.RandomCrop((600,600)),\n",
    "                              transforms.Resize((244,244)),\n",
    "                              transforms.ToTensor(),\n",
    "                              ])\n",
    "    return DataLoader(MyDataset(img_list,transform),batch_size=batch,shuffle=True)"
   ]
  },
  {
   "cell_type": "markdown",
   "metadata": {},
   "source": [
    "## Image Flipping "
   ]
  },
  {
   "cell_type": "code",
   "execution_count": null,
   "metadata": {},
   "outputs": [],
   "source": [
    "def flip(img_list, batch):\n",
    "    transform=transforms.Compose([\n",
    "                              transforms.ToPILImage(),\n",
    "                              transforms.Resize((244,244)),\n",
    "                              transforms.RandomVerticalFlip(0.4), \n",
    "                              transforms.RandomHorizontalFlip(0.4),        \n",
    "                              transforms.ToTensor(),\n",
    "                              ])\n",
    "    return DataLoader(MyDataset(img_list,transform),batch_size=batch,shuffle=True)"
   ]
  },
  {
   "cell_type": "markdown",
   "metadata": {},
   "source": [
    "## Brightness, contrast, saturation, hue"
   ]
  },
  {
   "cell_type": "code",
   "execution_count": null,
   "metadata": {},
   "outputs": [],
   "source": [
    "def hue(img_list, batch):\n",
    "    transform=transforms.Compose([\n",
    "                              transforms.ToPILImage(),\n",
    "                              transforms.Resize((244,244)),\n",
    "                              transforms.ColorJitter(brightness=0.1, contrast=0.2, saturation=0, hue=0),\n",
    "                              transforms.ToTensor(),\n",
    "                              ])\n",
    "    return DataLoader(MyDataset(img_list,transform),batch_size=batch,shuffle=True)"
   ]
  },
  {
   "cell_type": "markdown",
   "metadata": {},
   "source": [
    "## Gaussian Noise"
   ]
  },
  {
   "cell_type": "code",
   "execution_count": null,
   "metadata": {},
   "outputs": [],
   "source": [
    "class AddGaussianNoise(object):\n",
    "    def __init__(self, mean=0., std=1.):\n",
    "        self.std = std\n",
    "        self.mean = mean\n",
    "\n",
    "    def __call__(self, tensor):\n",
    "        return tensor + torch.randn(tensor.size()) * self.std + self.mean\n",
    "\n",
    "    def __repr__(self):\n",
    "        return self.__class__.__name__ + '(mean={0}, std={1})'.format(self.mean, self.std)"
   ]
  },
  {
   "cell_type": "code",
   "execution_count": null,
   "metadata": {},
   "outputs": [],
   "source": [
    "def gauss(img_list, batch):\n",
    "    transform=transforms.Compose([\n",
    "                              transforms.ToPILImage(),\n",
    "                              transforms.Resize((244,244)),\n",
    "                              transforms.ToTensor(),\n",
    "                              AddGaussianNoise(0.1, 0.08)\n",
    "                              ])\n",
    "    return DataLoader(MyDataset(img_list,transform),batch_size=batch,shuffle=True)"
   ]
  },
  {
   "cell_type": "markdown",
   "metadata": {},
   "source": [
    "## Random Erasing"
   ]
  },
  {
   "cell_type": "code",
   "execution_count": null,
   "metadata": {},
   "outputs": [],
   "source": [
    "def erase(img_list, batch):\n",
    "    transform=transforms.Compose([\n",
    "                              transforms.ToPILImage(),\n",
    "                              transforms.Resize((244,244)),   \n",
    "                              transforms.ToTensor(),\n",
    "                              transforms.RandomErasing(),  \n",
    "                              ])\n",
    "    return DataLoader(MyDataset(img_list,transform),batch_size=batch,shuffle=True)"
   ]
  },
  {
   "cell_type": "markdown",
   "metadata": {},
   "source": [
    "## creating and saving new data\n",
    "run next cell to have x6 the volume of data"
   ]
  },
  {
   "cell_type": "code",
   "execution_count": null,
   "metadata": {},
   "outputs": [],
   "source": [
    "for c in classes:\n",
    "    print(\"Data Augmetation for class %s\" % c)\n",
    "    img_list=glob.glob(directory+c+'/*.jpg')\n",
    "    data_size = len(img_list)\n",
    "    loaders = [rotation(img_list, batch_size),\n",
    "               cropping(img_list, batch_size),\n",
    "               flip(img_list, batch_size),\n",
    "               hue(img_list, batch_size),\n",
    "               gauss(img_list, batch_size),\n",
    "               erase(img_list, batch_size)]\n",
    "    k = 0\n",
    "    for l in loaders:\n",
    "        data = iter(l)\n",
    "        for i in range(data_size//batch_size):\n",
    "            try:\n",
    "                images_batch = data.next()\n",
    "                for j in range(images_batch.shape[0]):\n",
    "                    img1 = images_batch[j]\n",
    "                    save_image(img1, output_directory+c+'/img_augm_'+str(k)+'.jpg')\n",
    "                    k+=1\n",
    "            except:\n",
    "                k+=1"
   ]
  },
  {
   "cell_type": "code",
   "execution_count": null,
   "metadata": {},
   "outputs": [],
   "source": []
  }
 ],
 "metadata": {
  "kernelspec": {
   "display_name": "Python 3",
   "language": "python",
   "name": "python3"
  },
  "language_info": {
   "codemirror_mode": {
    "name": "ipython",
    "version": 3
   },
   "file_extension": ".py",
   "mimetype": "text/x-python",
   "name": "python",
   "nbconvert_exporter": "python",
   "pygments_lexer": "ipython3",
   "version": "3.7.6"
  }
 },
 "nbformat": 4,
 "nbformat_minor": 4
}
